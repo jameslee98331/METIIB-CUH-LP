{
  "nbformat": 4,
  "nbformat_minor": 0,
  "metadata": {
    "colab": {
      "name": "image_classifier.ipynb",
      "provenance": [],
      "collapsed_sections": [],
      "machine_shape": "hm",
      "include_colab_link": true
    },
    "kernelspec": {
      "name": "python3",
      "display_name": "Python 3"
    },
    "accelerator": "TPU"
  },
  "cells": [
    {
      "cell_type": "markdown",
      "metadata": {
        "id": "view-in-github",
        "colab_type": "text"
      },
      "source": [
        "<a href=\"https://colab.research.google.com/github/jameslee98331/METIIB-CUH-LP/blob/master/image_classifier.ipynb\" target=\"_parent\"><img src=\"https://colab.research.google.com/assets/colab-badge.svg\" alt=\"Open In Colab\"/></a>"
      ]
    },
    {
      "cell_type": "code",
      "metadata": {
        "id": "pStx3eMOyUq-",
        "colab_type": "code",
        "outputId": "9af513dd-ebbf-4fb9-b3df-9aaffb107ff5",
        "colab": {
          "base_uri": "https://localhost:8080/",
          "height": 670
        }
      },
      "source": [
        "!pip uninstall tensorflow -y\n",
        "!pip install  tensorflow==1.14"
      ],
      "execution_count": 0,
      "outputs": [
        {
          "output_type": "stream",
          "text": [
            "Uninstalling tensorflow-2.2.0:\n",
            "  Successfully uninstalled tensorflow-2.2.0\n",
            "Collecting tensorflow==1.14\n",
            "\u001b[?25l  Downloading https://files.pythonhosted.org/packages/de/f0/96fb2e0412ae9692dbf400e5b04432885f677ad6241c088ccc5fe7724d69/tensorflow-1.14.0-cp36-cp36m-manylinux1_x86_64.whl (109.2MB)\n",
            "\u001b[K     |████████████████████████████████| 109.2MB 39kB/s \n",
            "\u001b[?25hRequirement already satisfied: keras-preprocessing>=1.0.5 in /usr/local/lib/python3.6/dist-packages (from tensorflow==1.14) (1.1.2)\n",
            "Requirement already satisfied: termcolor>=1.1.0 in /usr/local/lib/python3.6/dist-packages (from tensorflow==1.14) (1.1.0)\n",
            "Requirement already satisfied: keras-applications>=1.0.6 in /usr/local/lib/python3.6/dist-packages (from tensorflow==1.14) (1.0.8)\n",
            "Requirement already satisfied: google-pasta>=0.1.6 in /usr/local/lib/python3.6/dist-packages (from tensorflow==1.14) (0.2.0)\n",
            "Requirement already satisfied: wheel>=0.26 in /usr/local/lib/python3.6/dist-packages (from tensorflow==1.14) (0.34.2)\n",
            "Collecting tensorflow-estimator<1.15.0rc0,>=1.14.0rc0\n",
            "\u001b[?25l  Downloading https://files.pythonhosted.org/packages/3c/d5/21860a5b11caf0678fbc8319341b0ae21a07156911132e0e71bffed0510d/tensorflow_estimator-1.14.0-py2.py3-none-any.whl (488kB)\n",
            "\u001b[K     |████████████████████████████████| 491kB 51.2MB/s \n",
            "\u001b[?25hRequirement already satisfied: numpy<2.0,>=1.14.5 in /usr/local/lib/python3.6/dist-packages (from tensorflow==1.14) (1.18.4)\n",
            "Requirement already satisfied: absl-py>=0.7.0 in /usr/local/lib/python3.6/dist-packages (from tensorflow==1.14) (0.9.0)\n",
            "Collecting tensorboard<1.15.0,>=1.14.0\n",
            "\u001b[?25l  Downloading https://files.pythonhosted.org/packages/91/2d/2ed263449a078cd9c8a9ba50ebd50123adf1f8cfbea1492f9084169b89d9/tensorboard-1.14.0-py3-none-any.whl (3.1MB)\n",
            "\u001b[K     |████████████████████████████████| 3.2MB 65.7MB/s \n",
            "\u001b[?25hRequirement already satisfied: gast>=0.2.0 in /usr/local/lib/python3.6/dist-packages (from tensorflow==1.14) (0.3.3)\n",
            "Requirement already satisfied: wrapt>=1.11.1 in /usr/local/lib/python3.6/dist-packages (from tensorflow==1.14) (1.12.1)\n",
            "Requirement already satisfied: protobuf>=3.6.1 in /usr/local/lib/python3.6/dist-packages (from tensorflow==1.14) (3.10.0)\n",
            "Requirement already satisfied: grpcio>=1.8.6 in /usr/local/lib/python3.6/dist-packages (from tensorflow==1.14) (1.29.0)\n",
            "Requirement already satisfied: astor>=0.6.0 in /usr/local/lib/python3.6/dist-packages (from tensorflow==1.14) (0.8.1)\n",
            "Requirement already satisfied: six>=1.10.0 in /usr/local/lib/python3.6/dist-packages (from tensorflow==1.14) (1.12.0)\n",
            "Requirement already satisfied: h5py in /usr/local/lib/python3.6/dist-packages (from keras-applications>=1.0.6->tensorflow==1.14) (2.10.0)\n",
            "Requirement already satisfied: setuptools>=41.0.0 in /usr/local/lib/python3.6/dist-packages (from tensorboard<1.15.0,>=1.14.0->tensorflow==1.14) (46.3.0)\n",
            "Requirement already satisfied: markdown>=2.6.8 in /usr/local/lib/python3.6/dist-packages (from tensorboard<1.15.0,>=1.14.0->tensorflow==1.14) (3.2.2)\n",
            "Requirement already satisfied: werkzeug>=0.11.15 in /usr/local/lib/python3.6/dist-packages (from tensorboard<1.15.0,>=1.14.0->tensorflow==1.14) (1.0.1)\n",
            "Requirement already satisfied: importlib-metadata; python_version < \"3.8\" in /usr/local/lib/python3.6/dist-packages (from markdown>=2.6.8->tensorboard<1.15.0,>=1.14.0->tensorflow==1.14) (1.6.0)\n",
            "Requirement already satisfied: zipp>=0.5 in /usr/local/lib/python3.6/dist-packages (from importlib-metadata; python_version < \"3.8\"->markdown>=2.6.8->tensorboard<1.15.0,>=1.14.0->tensorflow==1.14) (3.1.0)\n",
            "Installing collected packages: tensorflow-estimator, tensorboard, tensorflow\n",
            "  Found existing installation: tensorflow-estimator 2.2.0\n",
            "    Uninstalling tensorflow-estimator-2.2.0:\n",
            "      Successfully uninstalled tensorflow-estimator-2.2.0\n",
            "  Found existing installation: tensorboard 2.2.1\n",
            "    Uninstalling tensorboard-2.2.1:\n",
            "      Successfully uninstalled tensorboard-2.2.1\n",
            "Successfully installed tensorboard-1.14.0 tensorflow-1.14.0 tensorflow-estimator-1.14.0\n"
          ],
          "name": "stdout"
        }
      ]
    },
    {
      "cell_type": "code",
      "metadata": {
        "id": "3NsF5VZdfYTc",
        "colab_type": "code",
        "outputId": "a51bb583-7cbc-41ad-dcdf-a4265717f195",
        "colab": {
          "base_uri": "https://localhost:8080/",
          "height": 520
        }
      },
      "source": [
        "import os\n",
        "from google.colab import drive\n",
        "import tensorflow as tf\n",
        "from tensorflow.keras.preprocessing.image import ImageDataGenerator\n",
        "from tensorflow.keras.models import Sequential\n",
        "from tensorflow.keras.layers import Dense\n",
        "from tensorflow.keras.layers import GlobalAveragePooling2D\n",
        "import numpy as np\n",
        "\n",
        "drive.mount('/content/gdrive')\n"
      ],
      "execution_count": 0,
      "outputs": [
        {
          "output_type": "stream",
          "text": [
            "/usr/local/lib/python3.6/dist-packages/tensorflow/python/framework/dtypes.py:516: FutureWarning: Passing (type, 1) or '1type' as a synonym of type is deprecated; in a future version of numpy, it will be understood as (type, (1,)) / '(1,)type'.\n",
            "  _np_qint8 = np.dtype([(\"qint8\", np.int8, 1)])\n",
            "/usr/local/lib/python3.6/dist-packages/tensorflow/python/framework/dtypes.py:517: FutureWarning: Passing (type, 1) or '1type' as a synonym of type is deprecated; in a future version of numpy, it will be understood as (type, (1,)) / '(1,)type'.\n",
            "  _np_quint8 = np.dtype([(\"quint8\", np.uint8, 1)])\n",
            "/usr/local/lib/python3.6/dist-packages/tensorflow/python/framework/dtypes.py:518: FutureWarning: Passing (type, 1) or '1type' as a synonym of type is deprecated; in a future version of numpy, it will be understood as (type, (1,)) / '(1,)type'.\n",
            "  _np_qint16 = np.dtype([(\"qint16\", np.int16, 1)])\n",
            "/usr/local/lib/python3.6/dist-packages/tensorflow/python/framework/dtypes.py:519: FutureWarning: Passing (type, 1) or '1type' as a synonym of type is deprecated; in a future version of numpy, it will be understood as (type, (1,)) / '(1,)type'.\n",
            "  _np_quint16 = np.dtype([(\"quint16\", np.uint16, 1)])\n",
            "/usr/local/lib/python3.6/dist-packages/tensorflow/python/framework/dtypes.py:520: FutureWarning: Passing (type, 1) or '1type' as a synonym of type is deprecated; in a future version of numpy, it will be understood as (type, (1,)) / '(1,)type'.\n",
            "  _np_qint32 = np.dtype([(\"qint32\", np.int32, 1)])\n",
            "/usr/local/lib/python3.6/dist-packages/tensorflow/python/framework/dtypes.py:525: FutureWarning: Passing (type, 1) or '1type' as a synonym of type is deprecated; in a future version of numpy, it will be understood as (type, (1,)) / '(1,)type'.\n",
            "  np_resource = np.dtype([(\"resource\", np.ubyte, 1)])\n",
            "/usr/local/lib/python3.6/dist-packages/tensorboard/compat/tensorflow_stub/dtypes.py:541: FutureWarning: Passing (type, 1) or '1type' as a synonym of type is deprecated; in a future version of numpy, it will be understood as (type, (1,)) / '(1,)type'.\n",
            "  _np_qint8 = np.dtype([(\"qint8\", np.int8, 1)])\n",
            "/usr/local/lib/python3.6/dist-packages/tensorboard/compat/tensorflow_stub/dtypes.py:542: FutureWarning: Passing (type, 1) or '1type' as a synonym of type is deprecated; in a future version of numpy, it will be understood as (type, (1,)) / '(1,)type'.\n",
            "  _np_quint8 = np.dtype([(\"quint8\", np.uint8, 1)])\n",
            "/usr/local/lib/python3.6/dist-packages/tensorboard/compat/tensorflow_stub/dtypes.py:543: FutureWarning: Passing (type, 1) or '1type' as a synonym of type is deprecated; in a future version of numpy, it will be understood as (type, (1,)) / '(1,)type'.\n",
            "  _np_qint16 = np.dtype([(\"qint16\", np.int16, 1)])\n",
            "/usr/local/lib/python3.6/dist-packages/tensorboard/compat/tensorflow_stub/dtypes.py:544: FutureWarning: Passing (type, 1) or '1type' as a synonym of type is deprecated; in a future version of numpy, it will be understood as (type, (1,)) / '(1,)type'.\n",
            "  _np_quint16 = np.dtype([(\"quint16\", np.uint16, 1)])\n",
            "/usr/local/lib/python3.6/dist-packages/tensorboard/compat/tensorflow_stub/dtypes.py:545: FutureWarning: Passing (type, 1) or '1type' as a synonym of type is deprecated; in a future version of numpy, it will be understood as (type, (1,)) / '(1,)type'.\n",
            "  _np_qint32 = np.dtype([(\"qint32\", np.int32, 1)])\n",
            "/usr/local/lib/python3.6/dist-packages/tensorboard/compat/tensorflow_stub/dtypes.py:550: FutureWarning: Passing (type, 1) or '1type' as a synonym of type is deprecated; in a future version of numpy, it will be understood as (type, (1,)) / '(1,)type'.\n",
            "  np_resource = np.dtype([(\"resource\", np.ubyte, 1)])\n"
          ],
          "name": "stderr"
        },
        {
          "output_type": "stream",
          "text": [
            "Go to this URL in a browser: https://accounts.google.com/o/oauth2/auth?client_id=947318989803-6bn6qk8qdgf4n4g3pfee6491hc0brc4i.apps.googleusercontent.com&redirect_uri=urn%3aietf%3awg%3aoauth%3a2.0%3aoob&response_type=code&scope=email%20https%3a%2f%2fwww.googleapis.com%2fauth%2fdocs.test%20https%3a%2f%2fwww.googleapis.com%2fauth%2fdrive%20https%3a%2f%2fwww.googleapis.com%2fauth%2fdrive.photos.readonly%20https%3a%2f%2fwww.googleapis.com%2fauth%2fpeopleapi.readonly\n",
            "\n",
            "Enter your authorization code:\n",
            "··········\n",
            "Mounted at /content/gdrive\n"
          ],
          "name": "stdout"
        }
      ]
    },
    {
      "cell_type": "code",
      "metadata": {
        "id": "PTCJjWlGzGLb",
        "colab_type": "code",
        "outputId": "9d5d559b-b896-4078-de67-f14386dfb895",
        "colab": {
          "base_uri": "https://localhost:8080/",
          "height": 33
        }
      },
      "source": [
        "print(tf.__version__)"
      ],
      "execution_count": 0,
      "outputs": [
        {
          "output_type": "stream",
          "text": [
            "1.14.0\n"
          ],
          "name": "stdout"
        }
      ]
    },
    {
      "cell_type": "code",
      "metadata": {
        "id": "y88I0w91fd2X",
        "colab_type": "code",
        "outputId": "4532b6e4-ff6e-42b7-bda8-7faecf91b69d",
        "colab": {
          "base_uri": "https://localhost:8080/",
          "height": 283
        }
      },
      "source": [
        "data_dir = '/content/gdrive/My Drive/MET IIB 2019-2020/PROJECTS/LONG PROJECT/5. Image Classifier/Images/data'\n",
        "train_dir = os.path.join(data_dir, 'train')\n",
        "train_top = os.path.join(train_dir, 'top')\n",
        "# train_edge = os.path.join(train_dir, 'edge')\n",
        "train_bottom = os.path.join(train_dir, 'bottom')\n",
        "val_dir = os.path.join(data_dir, 'validation')\n",
        "val_top = os.path.join(val_dir, 'top')\n",
        "# val_edge = os.path.join(val_dir, 'edge')\n",
        "val_bottom = os.path.join(val_dir, 'bottom')\n",
        "\n",
        "num_train_top = len(os.listdir(train_top))\n",
        "num_val_top = len(os.listdir(val_top))\n",
        "num_train_bottom = len(os.listdir(train_bottom))\n",
        "num_val_bottom = len(os.listdir(val_bottom))\n",
        "# num_train_edge = len(os.listdir(train_edge))\n",
        "# num_val_edge = len(os.listdir(val_edge))\n",
        "\n",
        "total_train = num_train_top + num_train_bottom\n",
        "total_val = num_val_top + num_val_bottom\n",
        "\n",
        "BATCH_SIZE = 32\n",
        "IMG_SIZE = 224\n",
        "\n",
        "train_image_generator = ImageDataGenerator(rescale=1./255,\n",
        "                                           rotation_range=20,\n",
        "                                           width_shift_range=0.2,\n",
        "                                           height_shift_range=0.2,\n",
        "                                           horizontal_flip=True)\n",
        "validation_image_generator = ImageDataGenerator(rescale=1./255)\n",
        "\n",
        "train_data_gen = train_image_generator.flow_from_directory(\n",
        "    batch_size=BATCH_SIZE,\n",
        "    directory=train_dir,\n",
        "    shuffle=True,\n",
        "    target_size=(IMG_SIZE, IMG_SIZE),\n",
        "    class_mode='binary'\n",
        "    )\n",
        "\n",
        "val_data_gen = validation_image_generator.flow_from_directory(\n",
        "    batch_size=BATCH_SIZE,\n",
        "    directory=val_dir,\n",
        "    shuffle=True,\n",
        "    target_size=(IMG_SIZE, IMG_SIZE),\n",
        "    class_mode='binary'\n",
        "    )\n",
        "\n",
        "base_model = tf.keras.applications.MobileNetV2(input_shape=(IMG_SIZE, IMG_SIZE, 3),\n",
        "                                               include_top=False,\n",
        "                                               weights='imagenet')\n",
        "\n",
        "base_model.trainable = False\n",
        "\n",
        "global_average_layer = tf.keras.layers.GlobalAveragePooling2D()\n",
        "max_pooling_layer = tf.keras.layers.MaxPooling2D()\n",
        "dropout_layer = tf.keras.layers.Dropout(0.1)\n",
        "batch_norm_layer = tf.keras.layers.BatchNormalization()\n",
        "prediction_layer = Dense(1)\n",
        "\n",
        "model = Sequential([base_model,\n",
        "                    global_average_layer,\n",
        "                    prediction_layer])\n",
        "\n",
        "model.compile(optimizer='adam',\n",
        "              loss='binary_crossentropy',\n",
        "              metrics=['accuracy'])\n",
        "\n",
        "model.summary()\n"
      ],
      "execution_count": 0,
      "outputs": [
        {
          "output_type": "stream",
          "text": [
            "Found 2261 images belonging to 2 classes.\n",
            "Found 192 images belonging to 2 classes.\n",
            "Model: \"sequential_10\"\n",
            "_________________________________________________________________\n",
            "Layer (type)                 Output Shape              Param #   \n",
            "=================================================================\n",
            "mobilenetv2_1.00_224 (Model) (None, 7, 7, 1280)        2257984   \n",
            "_________________________________________________________________\n",
            "global_average_pooling2d_10  (None, 1280)              0         \n",
            "_________________________________________________________________\n",
            "dense_10 (Dense)             (None, 1)                 1281      \n",
            "=================================================================\n",
            "Total params: 2,259,265\n",
            "Trainable params: 1,281\n",
            "Non-trainable params: 2,257,984\n",
            "_________________________________________________________________\n"
          ],
          "name": "stdout"
        }
      ]
    },
    {
      "cell_type": "code",
      "metadata": {
        "id": "noe49nbCfo-A",
        "colab_type": "code",
        "outputId": "ff753e2c-dd25-4bdc-b412-d3bc1919241d",
        "colab": {
          "base_uri": "https://localhost:8080/",
          "height": 817
        }
      },
      "source": [
        "EPOCHS = 24\n",
        "\n",
        "history = model.fit_generator(train_data_gen,\n",
        "                    epochs=EPOCHS,\n",
        "                    validation_data=val_data_gen)"
      ],
      "execution_count": 0,
      "outputs": [
        {
          "output_type": "stream",
          "text": [
            "Epoch 1/24\n",
            "71/71 [==============================] - 73s 1s/step - loss: 1.2526 - acc: 0.8364 - val_loss: 1.3688 - val_acc: 0.7188\n",
            "Epoch 2/24\n",
            "71/71 [==============================] - 61s 859ms/step - loss: 0.3181 - acc: 0.9421 - val_loss: 0.8559 - val_acc: 0.7708\n",
            "Epoch 3/24\n",
            "71/71 [==============================] - 65s 921ms/step - loss: 0.1068 - acc: 0.9743 - val_loss: 0.8588 - val_acc: 0.8229\n",
            "Epoch 4/24\n",
            "71/71 [==============================] - 65s 911ms/step - loss: 0.1249 - acc: 0.9828 - val_loss: 0.6493 - val_acc: 0.8229\n",
            "Epoch 5/24\n",
            "71/71 [==============================] - 65s 911ms/step - loss: 0.1115 - acc: 0.9819 - val_loss: 0.7456 - val_acc: 0.8229\n",
            "Epoch 6/24\n",
            "71/71 [==============================] - 65s 915ms/step - loss: 0.1091 - acc: 0.9845 - val_loss: 1.0891 - val_acc: 0.7917\n",
            "Epoch 7/24\n",
            "71/71 [==============================] - 65s 917ms/step - loss: 0.1825 - acc: 0.9708 - val_loss: 1.7209 - val_acc: 0.7604\n",
            "Epoch 8/24\n",
            "71/71 [==============================] - 65s 917ms/step - loss: 0.0859 - acc: 0.9819 - val_loss: 1.7349 - val_acc: 0.8021\n",
            "Epoch 9/24\n",
            "71/71 [==============================] - 65s 917ms/step - loss: 0.3499 - acc: 0.9642 - val_loss: 1.8877 - val_acc: 0.7708\n",
            "Epoch 10/24\n",
            "71/71 [==============================] - 65s 920ms/step - loss: 0.0243 - acc: 0.9894 - val_loss: 1.8019 - val_acc: 0.7604\n",
            "Epoch 11/24\n",
            "71/71 [==============================] - 66s 931ms/step - loss: 0.0525 - acc: 0.9925 - val_loss: 1.8008 - val_acc: 0.7917\n",
            "Epoch 12/24\n",
            "71/71 [==============================] - 66s 923ms/step - loss: 0.0569 - acc: 0.9947 - val_loss: 1.7980 - val_acc: 0.7917\n",
            "Epoch 13/24\n",
            "71/71 [==============================] - 65s 916ms/step - loss: 0.0559 - acc: 0.9903 - val_loss: 1.7794 - val_acc: 0.7708\n",
            "Epoch 14/24\n",
            "71/71 [==============================] - 65s 912ms/step - loss: 0.0486 - acc: 0.9898 - val_loss: 1.7830 - val_acc: 0.8125\n",
            "Epoch 15/24\n",
            "71/71 [==============================] - 65s 915ms/step - loss: 0.0567 - acc: 0.9907 - val_loss: 1.2565 - val_acc: 0.7604\n",
            "Epoch 16/24\n",
            "71/71 [==============================] - 65s 915ms/step - loss: 0.0999 - acc: 0.9894 - val_loss: 1.2985 - val_acc: 0.8542\n",
            "Epoch 17/24\n",
            "71/71 [==============================] - 66s 924ms/step - loss: 0.0750 - acc: 0.9867 - val_loss: 1.2788 - val_acc: 0.8333\n",
            "Epoch 18/24\n",
            "71/71 [==============================] - 65s 921ms/step - loss: 0.0151 - acc: 0.9951 - val_loss: 1.1388 - val_acc: 0.8646\n",
            "Epoch 19/24\n",
            "71/71 [==============================] - 65s 912ms/step - loss: 0.0238 - acc: 0.9938 - val_loss: 1.1225 - val_acc: 0.8646\n",
            "Epoch 20/24\n",
            "71/71 [==============================] - 66s 923ms/step - loss: 0.0726 - acc: 0.9943 - val_loss: 1.1364 - val_acc: 0.8750\n",
            "Epoch 21/24\n",
            "71/71 [==============================] - 65s 918ms/step - loss: 0.0672 - acc: 0.9934 - val_loss: 1.2949 - val_acc: 0.8438\n",
            "Epoch 22/24\n",
            "71/71 [==============================] - 66s 928ms/step - loss: 0.0209 - acc: 0.9916 - val_loss: 1.0815 - val_acc: 0.8750\n",
            "Epoch 23/24\n",
            "71/71 [==============================] - 65s 922ms/step - loss: 0.0300 - acc: 0.9947 - val_loss: 1.1590 - val_acc: 0.8438\n",
            "Epoch 24/24\n",
            "71/71 [==============================] - 65s 915ms/step - loss: 0.0505 - acc: 0.9920 - val_loss: 1.1726 - val_acc: 0.8438\n"
          ],
          "name": "stdout"
        }
      ]
    },
    {
      "cell_type": "code",
      "metadata": {
        "id": "prooS4cTweHn",
        "colab_type": "code",
        "outputId": "1a5bfabe-5447-41da-a717-d15a97edd11f",
        "colab": {
          "base_uri": "https://localhost:8080/",
          "height": 513
        }
      },
      "source": [
        "import matplotlib.pyplot as plt\n",
        "\n",
        "acc = history.history['acc']\n",
        "val_acc = history.history['val_acc']\n",
        "\n",
        "loss = history.history['loss']\n",
        "val_loss = history.history['val_loss']\n",
        "\n",
        "plt.figure(figsize=(8, 8))\n",
        "plt.subplot(2, 1, 1)\n",
        "plt.plot(acc, label='Training Accuracy')\n",
        "plt.plot(val_acc, label='Validation Accuracy')\n",
        "plt.legend(loc='lower right')\n",
        "plt.ylabel('Accuracy')\n",
        "plt.ylim([min(plt.ylim()),1])\n",
        "plt.title('Training and Validation Accuracy')\n",
        "\n",
        "plt.subplot(2, 1, 2)\n",
        "plt.plot(loss, label='Training Loss')\n",
        "plt.plot(val_loss, label='Validation Loss')\n",
        "plt.legend(loc='upper right')\n",
        "plt.ylabel('Cross Entropy')\n",
        "plt.ylim([0,5])\n",
        "plt.title('Training and Validation Loss')\n",
        "plt.xlabel('epoch')\n",
        "plt.show()"
      ],
      "execution_count": 0,
      "outputs": [
        {
          "output_type": "display_data",
          "data": {
            "image/png": "[encoded data removed]",
            "text/plain": [
              "<Figure size 576x576 with 2 Axes>"
            ]
          },
          "metadata": {
            "tags": [],
            "needs_background": "light"
          }
        }
      ]
    },
    {
      "cell_type": "code",
      "metadata": {
        "id": "XJSaXyMAQtzS",
        "colab_type": "code",
        "colab": {}
      },
      "source": [
        "model.save('/content/gdrive/My Drive/MET IIB 2019-2020/PROJECTS/LONG PROJECT/5. Image Classifier/model_1.h5')"
      ],
      "execution_count": 0,
      "outputs": []
    },
    {
      "cell_type": "code",
      "metadata": {
        "id": "djek4IOE9fxq",
        "colab_type": "code",
        "outputId": "297a1b97-10fa-4677-fc97-4e22b847efaf",
        "colab": {
          "base_uri": "https://localhost:8080/",
          "height": 420
        }
      },
      "source": [
        "new_model = tf.keras.models.load_model('/content/gdrive/My Drive/MET IIB 2019-2020/PROJECTS/LONG PROJECT/5. Image Classifier/model_1.h5')\n",
        "\n",
        "new_model.summary()"
      ],
      "execution_count": 0,
      "outputs": [
        {
          "output_type": "stream",
          "text": [
            "WARNING:tensorflow:From /usr/local/lib/python3.6/dist-packages/tensorflow/python/ops/init_ops.py:97: calling GlorotUniform.__init__ (from tensorflow.python.ops.init_ops) with dtype is deprecated and will be removed in a future version.\n",
            "Instructions for updating:\n",
            "Call initializer instance with the dtype argument instead of passing it to the constructor\n",
            "WARNING:tensorflow:From /usr/local/lib/python3.6/dist-packages/tensorflow/python/ops/init_ops.py:97: calling Zeros.__init__ (from tensorflow.python.ops.init_ops) with dtype is deprecated and will be removed in a future version.\n",
            "Instructions for updating:\n",
            "Call initializer instance with the dtype argument instead of passing it to the constructor\n",
            "WARNING:tensorflow:From /usr/local/lib/python3.6/dist-packages/tensorflow/python/ops/init_ops.py:97: calling Ones.__init__ (from tensorflow.python.ops.init_ops) with dtype is deprecated and will be removed in a future version.\n",
            "Instructions for updating:\n",
            "Call initializer instance with the dtype argument instead of passing it to the constructor\n",
            "Model: \"sequential_10\"\n",
            "_________________________________________________________________\n",
            "Layer (type)                 Output Shape              Param #   \n",
            "=================================================================\n",
            "mobilenetv2_1.00_224 (Model) (None, 7, 7, 1280)        2257984   \n",
            "_________________________________________________________________\n",
            "global_average_pooling2d_10  (None, 1280)              0         \n",
            "_________________________________________________________________\n",
            "dense_10 (Dense)             (None, 1)                 1281      \n",
            "=================================================================\n",
            "Total params: 2,259,265\n",
            "Trainable params: 1,281\n",
            "Non-trainable params: 2,257,984\n",
            "_________________________________________________________________\n"
          ],
          "name": "stdout"
        }
      ]
    },
    {
      "cell_type": "code",
      "metadata": {
        "id": "17_AmJTz-Vnq",
        "colab_type": "code",
        "colab": {}
      },
      "source": [
        ""
      ],
      "execution_count": 0,
      "outputs": []
    }
  ]
}